{
 "cells": [],
 "metadata": {
  "signature": "sha256:fc733a30a2011835fe6d052388f9d7e266899fd20e847e78879cbdd1d53e8a79"
 },
 "nbformat": 4,
 "nbformat_minor": 0
}